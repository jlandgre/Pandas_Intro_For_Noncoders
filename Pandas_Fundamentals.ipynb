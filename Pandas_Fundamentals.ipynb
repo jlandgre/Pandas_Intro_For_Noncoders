{
 "cells": [
  {
   "cell_type": "markdown",
   "id": "55d4ec94-2b53-48a0-93fb-a3c2241c528e",
   "metadata": {},
   "source": [
    "## Big(ger) Data Fundamentals with Pandas\n",
    "This shares a \"Big(ger) Data Fundamentals example in Python/Pandas.  This example mirrors JMP exercises with the same sample sales data, but Pandas provides a lot of flexibility to work with even bigger data and to \"script\" the analyses for repeated use.</br></br>JDL / Data Delve LLC / http://datadelveengineer.com / 12/9/22"
   ]
  },
  {
   "cell_type": "markdown",
   "id": "f48f4b21-87cc-4d70-b170-31dd95830a92",
   "metadata": {},
   "source": [
    "### Jupyter notebook hints for running these scripts\n",
    "* Install Anaconda Individual Edition for either Windows or Mac.  This gets up-to-date versions of Python and Pandas on your computer\n",
    "* Launch Anaconda and open the Jupyter Lab tool there\n",
    "* In Jupyter Lab (opens in your browser but as a purely local/non-internet tool), open this notebook\n",
    "* Choose the Run menu / Run All Cells to run the examples here"
   ]
  },
  {
   "cell_type": "markdown",
   "id": "c065c304-0c75-480d-b700-94353be78aee",
   "metadata": {},
   "source": [
    "### Pandas basics\n",
    "Pandas is widely used.  It was developed in the early to middle 2010's with an initial focus on the financial industry.  Its core concept for holding data is the \"DataFrame.\"  A DataFrame is synonomous with \"data table with a bunch of metadata about the table and its columns.\" Pandas is ingeniously coded to be efficient with  data sets greater than 1 MM rows."
   ]
  },
  {
   "cell_type": "markdown",
   "id": "93048c94-d29f-4dbd-9640-f9e272cc06d5",
   "metadata": {},
   "source": [
    "The first statements below simply import the Pandas and Numpy Python libraries. For code readability, these statements should be at the top of a Jupyter notebook like this one. The \"as pd\" allow referring to Pandas commands as `pd.method(options)` throughout the rest of the notebook's script statements.  The 'pd' and 'np' abbreviations can actually be any text strings, but you should use 'pd' and 'np' to avoid confusion"
   ]
  },
  {
   "cell_type": "code",
   "execution_count": 1,
   "id": "d701ddf9-49ee-4063-8ed0-a0e0b52d55c6",
   "metadata": {},
   "outputs": [],
   "source": [
    "import pandas as pd\n",
    "import numpy as np"
   ]
  },
  {
   "cell_type": "markdown",
   "id": "346f518a-03ae-4996-8313-9c2ae63704b6",
   "metadata": {},
   "source": [
    "### A first DataFrame example\n",
    "We will shortly read data into a DataFrame from a separate Excel file. To get started though, here is a quick example that creates a DataFrame from Python \"lists\" --one for each column.  There are three columns and three rows of data.  The second line is what does the \"printing out\" in this case.</br></br>Note the automatically-generated index column at the left.  This lets us refer to an individual row by index."
   ]
  },
  {
   "cell_type": "code",
   "execution_count": 3,
   "id": "9617f981-1541-4b91-a9c7-f8259b088ab6",
   "metadata": {},
   "outputs": [
    {
     "data": {
      "text/html": [
       "<div>\n",
       "<style scoped>\n",
       "    .dataframe tbody tr th:only-of-type {\n",
       "        vertical-align: middle;\n",
       "    }\n",
       "\n",
       "    .dataframe tbody tr th {\n",
       "        vertical-align: top;\n",
       "    }\n",
       "\n",
       "    .dataframe thead th {\n",
       "        text-align: right;\n",
       "    }\n",
       "</style>\n",
       "<table border=\"1\" class=\"dataframe\">\n",
       "  <thead>\n",
       "    <tr style=\"text-align: right;\">\n",
       "      <th></th>\n",
       "      <th>one_column</th>\n",
       "      <th>second_column</th>\n",
       "      <th>third_column</th>\n",
       "    </tr>\n",
       "  </thead>\n",
       "  <tbody>\n",
       "    <tr>\n",
       "      <th>0</th>\n",
       "      <td>a</td>\n",
       "      <td>10</td>\n",
       "      <td>100</td>\n",
       "    </tr>\n",
       "    <tr>\n",
       "      <th>1</th>\n",
       "      <td>b</td>\n",
       "      <td>15</td>\n",
       "      <td>150</td>\n",
       "    </tr>\n",
       "    <tr>\n",
       "      <th>2</th>\n",
       "      <td>c</td>\n",
       "      <td>20</td>\n",
       "      <td>200</td>\n",
       "    </tr>\n",
       "  </tbody>\n",
       "</table>\n",
       "</div>"
      ],
      "text/plain": [
       "  one_column  second_column  third_column\n",
       "0          a             10           100\n",
       "1          b             15           150\n",
       "2          c             20           200"
      ]
     },
     "execution_count": 3,
     "metadata": {},
     "output_type": "execute_result"
    }
   ],
   "source": [
    "df_little = pd.DataFrame(data={'one_column':['a', 'b', 'c'], 'second_column':[10,15, 20], 'third_column':[100, 150, 200]})\n",
    "df_little"
   ]
  },
  {
   "cell_type": "markdown",
   "id": "6083f596-cf71-4b4e-a2ef-76919b4fe9a9",
   "metadata": {},
   "source": [
    "by default, this DataFrame has what's called a Range Index consisting of zero-based integers 0, 1 and 2. However, one or more of the columns can be used as indices too.  This enables slicing out rows by index values as names.  Here is an example of using the first data column as the index. Notice how the index name is offset below the column names to indicate that `one_column` is the index"
   ]
  },
  {
   "cell_type": "code",
   "execution_count": 5,
   "id": "092e9558-3a96-4c0b-a2be-8a5b6b99cabb",
   "metadata": {},
   "outputs": [
    {
     "data": {
      "text/html": [
       "<div>\n",
       "<style scoped>\n",
       "    .dataframe tbody tr th:only-of-type {\n",
       "        vertical-align: middle;\n",
       "    }\n",
       "\n",
       "    .dataframe tbody tr th {\n",
       "        vertical-align: top;\n",
       "    }\n",
       "\n",
       "    .dataframe thead th {\n",
       "        text-align: right;\n",
       "    }\n",
       "</style>\n",
       "<table border=\"1\" class=\"dataframe\">\n",
       "  <thead>\n",
       "    <tr style=\"text-align: right;\">\n",
       "      <th></th>\n",
       "      <th>second_column</th>\n",
       "      <th>third_column</th>\n",
       "    </tr>\n",
       "    <tr>\n",
       "      <th>one_column</th>\n",
       "      <th></th>\n",
       "      <th></th>\n",
       "    </tr>\n",
       "  </thead>\n",
       "  <tbody>\n",
       "    <tr>\n",
       "      <th>a</th>\n",
       "      <td>10</td>\n",
       "      <td>100</td>\n",
       "    </tr>\n",
       "    <tr>\n",
       "      <th>b</th>\n",
       "      <td>15</td>\n",
       "      <td>150</td>\n",
       "    </tr>\n",
       "    <tr>\n",
       "      <th>c</th>\n",
       "      <td>20</td>\n",
       "      <td>200</td>\n",
       "    </tr>\n",
       "  </tbody>\n",
       "</table>\n",
       "</div>"
      ],
      "text/plain": [
       "            second_column  third_column\n",
       "one_column                             \n",
       "a                      10           100\n",
       "b                      15           150\n",
       "c                      20           200"
      ]
     },
     "execution_count": 5,
     "metadata": {},
     "output_type": "execute_result"
    }
   ],
   "source": [
    "df_little = df_little.set_index('one_column')\n",
    "df_little"
   ]
  },
  {
   "cell_type": "markdown",
   "id": "b7e792ff-cb96-4c51-a275-0993c948afc4",
   "metadata": {},
   "source": [
    "The `.iloc` and `.loc` functions are useful for accessing or \"slicing\" out rows.  `.iloc` allows referring to rows and columns by zero-based integer aka row number. `.loc` accesses rows by index and column name.  Below are examples of getting individual values with either method. A couple of things to notice:\n",
    "* The print() statement is useful to print out multiple items from a Jupyter Notebook cell --don't forget the parentheses!\n",
    "* Since the row and column indices are zero-based, `[1, 1]` refers to the second row and second, non-index (aka data) column\n",
    "* Notice that `.iloc` and `.loc` use square brackets to enclose their arguments"
   ]
  },
  {
   "cell_type": "code",
   "execution_count": 9,
   "id": "06d2eac8-8745-4d7c-be50-0ec3d722d752",
   "metadata": {},
   "outputs": [
    {
     "name": "stdout",
     "output_type": "stream",
     "text": [
      "150\n",
      "150\n"
     ]
    }
   ],
   "source": [
    "print(df_little.iloc[1, 1])\n",
    "print(df_little.loc['b', 'third_column'])"
   ]
  },
  {
   "cell_type": "markdown",
   "id": "87f59acc-b18e-4cf1-8361-df1ee4d9a4b1",
   "metadata": {},
   "source": [
    "### Working with the sample Sales Data\n",
    "The Bigger Data Fundamentals sample data can be imported into a DataFrame --directly from the Excel file. The stat at the table bottom says it all:  Just like that we have all 24,546 rows in a DataFrame.  With an even bigger data set, we would likely shift to reading the data in CSV format to avoid hitting Excel's 1 MM row limit.  That would use the more common (and much faster) `pd.read_csv()` method."
   ]
  },
  {
   "cell_type": "code",
   "execution_count": 11,
   "id": "f744f3d4-5658-4b1b-b994-bbb3bc9214cd",
   "metadata": {},
   "outputs": [
    {
     "data": {
      "text/html": [
       "<div>\n",
       "<style scoped>\n",
       "    .dataframe tbody tr th:only-of-type {\n",
       "        vertical-align: middle;\n",
       "    }\n",
       "\n",
       "    .dataframe tbody tr th {\n",
       "        vertical-align: top;\n",
       "    }\n",
       "\n",
       "    .dataframe thead th {\n",
       "        text-align: right;\n",
       "    }\n",
       "</style>\n",
       "<table border=\"1\" class=\"dataframe\">\n",
       "  <thead>\n",
       "    <tr style=\"text-align: right;\">\n",
       "      <th></th>\n",
       "      <th>Quarter</th>\n",
       "      <th>Channel</th>\n",
       "      <th>Customer ID</th>\n",
       "      <th>Country</th>\n",
       "      <th>Product Line</th>\n",
       "      <th>Revenue</th>\n",
       "      <th>Product Cost</th>\n",
       "      <th>Customer Service Cost</th>\n",
       "      <th>Profit</th>\n",
       "    </tr>\n",
       "  </thead>\n",
       "  <tbody>\n",
       "    <tr>\n",
       "      <th>0</th>\n",
       "      <td>Q3</td>\n",
       "      <td>ATM</td>\n",
       "      <td>FRT</td>\n",
       "      <td>USA</td>\n",
       "      <td>Credit Products</td>\n",
       "      <td>6044</td>\n",
       "      <td>3998</td>\n",
       "      <td>413</td>\n",
       "      <td>1633</td>\n",
       "    </tr>\n",
       "    <tr>\n",
       "      <th>1</th>\n",
       "      <td>Q1</td>\n",
       "      <td>ATM</td>\n",
       "      <td>MRT</td>\n",
       "      <td>USA</td>\n",
       "      <td>Credit Products</td>\n",
       "      <td>4686</td>\n",
       "      <td>3229</td>\n",
       "      <td>643</td>\n",
       "      <td>815</td>\n",
       "    </tr>\n",
       "    <tr>\n",
       "      <th>2</th>\n",
       "      <td>Q4</td>\n",
       "      <td>ATM</td>\n",
       "      <td>PBI</td>\n",
       "      <td>USA</td>\n",
       "      <td>Deposit Products</td>\n",
       "      <td>6063</td>\n",
       "      <td>7440</td>\n",
       "      <td>1842</td>\n",
       "      <td>-3219</td>\n",
       "    </tr>\n",
       "    <tr>\n",
       "      <th>3</th>\n",
       "      <td>Q1</td>\n",
       "      <td>ATM</td>\n",
       "      <td>PBI</td>\n",
       "      <td>USA</td>\n",
       "      <td>Deposit Products</td>\n",
       "      <td>4682</td>\n",
       "      <td>6127</td>\n",
       "      <td>1118</td>\n",
       "      <td>-2563</td>\n",
       "    </tr>\n",
       "    <tr>\n",
       "      <th>4</th>\n",
       "      <td>Q4</td>\n",
       "      <td>ATM</td>\n",
       "      <td>MRT</td>\n",
       "      <td>USA</td>\n",
       "      <td>Deposit Products</td>\n",
       "      <td>6320</td>\n",
       "      <td>7913</td>\n",
       "      <td>1854</td>\n",
       "      <td>-3447</td>\n",
       "    </tr>\n",
       "    <tr>\n",
       "      <th>...</th>\n",
       "      <td>...</td>\n",
       "      <td>...</td>\n",
       "      <td>...</td>\n",
       "      <td>...</td>\n",
       "      <td>...</td>\n",
       "      <td>...</td>\n",
       "      <td>...</td>\n",
       "      <td>...</td>\n",
       "      <td>...</td>\n",
       "    </tr>\n",
       "    <tr>\n",
       "      <th>24541</th>\n",
       "      <td>Q4</td>\n",
       "      <td>ATM</td>\n",
       "      <td>WEB</td>\n",
       "      <td>USA</td>\n",
       "      <td>Credit Products</td>\n",
       "      <td>4593</td>\n",
       "      <td>5302</td>\n",
       "      <td>1078</td>\n",
       "      <td>-1788</td>\n",
       "    </tr>\n",
       "    <tr>\n",
       "      <th>24542</th>\n",
       "      <td>Q1</td>\n",
       "      <td>ATM</td>\n",
       "      <td>PBI</td>\n",
       "      <td>USA</td>\n",
       "      <td>Revolving Credit Products</td>\n",
       "      <td>4268</td>\n",
       "      <td>1638</td>\n",
       "      <td>363</td>\n",
       "      <td>2267</td>\n",
       "    </tr>\n",
       "    <tr>\n",
       "      <th>24543</th>\n",
       "      <td>Q3</td>\n",
       "      <td>ATM</td>\n",
       "      <td>MRT</td>\n",
       "      <td>USA</td>\n",
       "      <td>Deposit Products</td>\n",
       "      <td>5505</td>\n",
       "      <td>3623</td>\n",
       "      <td>875</td>\n",
       "      <td>1007</td>\n",
       "    </tr>\n",
       "    <tr>\n",
       "      <th>24544</th>\n",
       "      <td>Q1</td>\n",
       "      <td>ATM</td>\n",
       "      <td>MAM</td>\n",
       "      <td>USA</td>\n",
       "      <td>Credit Products</td>\n",
       "      <td>5449</td>\n",
       "      <td>3911</td>\n",
       "      <td>561</td>\n",
       "      <td>977</td>\n",
       "    </tr>\n",
       "    <tr>\n",
       "      <th>24545</th>\n",
       "      <td>Q4</td>\n",
       "      <td>ATM</td>\n",
       "      <td>FRT</td>\n",
       "      <td>USA</td>\n",
       "      <td>Deposit Products</td>\n",
       "      <td>6059</td>\n",
       "      <td>5127</td>\n",
       "      <td>749</td>\n",
       "      <td>184</td>\n",
       "    </tr>\n",
       "  </tbody>\n",
       "</table>\n",
       "<p>24546 rows × 9 columns</p>\n",
       "</div>"
      ],
      "text/plain": [
       "      Quarter Channel Customer ID Country               Product Line  Revenue  \\\n",
       "0          Q3     ATM         FRT     USA            Credit Products     6044   \n",
       "1          Q1     ATM         MRT     USA            Credit Products     4686   \n",
       "2          Q4     ATM         PBI     USA           Deposit Products     6063   \n",
       "3          Q1     ATM         PBI     USA           Deposit Products     4682   \n",
       "4          Q4     ATM         MRT     USA           Deposit Products     6320   \n",
       "...       ...     ...         ...     ...                        ...      ...   \n",
       "24541      Q4     ATM         WEB     USA            Credit Products     4593   \n",
       "24542      Q1     ATM         PBI     USA  Revolving Credit Products     4268   \n",
       "24543      Q3     ATM         MRT     USA           Deposit Products     5505   \n",
       "24544      Q1     ATM         MAM     USA            Credit Products     5449   \n",
       "24545      Q4     ATM         FRT     USA           Deposit Products     6059   \n",
       "\n",
       "       Product Cost  Customer Service Cost  Profit  \n",
       "0              3998                    413    1633  \n",
       "1              3229                    643     815  \n",
       "2              7440                   1842   -3219  \n",
       "3              6127                   1118   -2563  \n",
       "4              7913                   1854   -3447  \n",
       "...             ...                    ...     ...  \n",
       "24541          5302                   1078   -1788  \n",
       "24542          1638                    363    2267  \n",
       "24543          3623                    875    1007  \n",
       "24544          3911                    561     977  \n",
       "24545          5127                    749     184  \n",
       "\n",
       "[24546 rows x 9 columns]"
      ]
     },
     "execution_count": 11,
     "metadata": {},
     "output_type": "execute_result"
    }
   ],
   "source": [
    "dfSales = pd.read_excel('Example_Sales_Data.xlsx', sheet_name='Sheet1')\n",
    "dfSales"
   ]
  },
  {
   "cell_type": "code",
   "execution_count": 14,
   "id": "a1bf3a8f-0c3b-48bf-b92e-e463f892dce6",
   "metadata": {},
   "outputs": [
    {
     "name": "stdout",
     "output_type": "stream",
     "text": [
      "Index(['Quarter', 'Channel', 'Customer ID', 'Country', 'Product Line',\n",
      "       'Revenue', 'Product Cost', 'Customer Service Cost', 'Profit'],\n",
      "      dtype='object')\n"
     ]
    }
   ],
   "source": [
    "print(dfSales.columns)"
   ]
  },
  {
   "cell_type": "code",
   "execution_count": 15,
   "id": "decefe70-566d-4477-9b23-cda1de06390e",
   "metadata": {},
   "outputs": [
    {
     "name": "stdout",
     "output_type": "stream",
     "text": [
      "RangeIndex(start=0, stop=24546, step=1)\n"
     ]
    }
   ],
   "source": [
    "print(dfSales.index)"
   ]
  },
  {
   "cell_type": "markdown",
   "id": "7321a811-48f2-4ce6-8f9b-f8a8433ef592",
   "metadata": {},
   "source": [
    "We won't go into it here, but there are other, even more efficient data formats for larger datasets.  Feather format (created as part of the PyArrow open-source project) is an example, and there are Pandas methods for reading and writing it as well.  This can dramatically reduce file size.  On the file size scale, Excel (the \"fat one\") >> CSV (on a diet but needs to keep pedaling) >> Feather (\"lean and mean\")."
   ]
  },
  {
   "cell_type": "markdown",
   "id": "83e100c8-08ec-435d-b11f-e8ce21c4687e",
   "metadata": {},
   "source": [
    "### Creating a Subset of the Sample Data\n",
    "Now we are ready to get to work.  We can subset the DataFrame using a notation that puts a true/false \"Boolean\" expression in brackets after the name of the master DataFrame.\n",
    "* We can create a subset DataFrame with the general statement like: `dfSubset = dfMaster[<<T/F expression about each row>>]\n",
    "* A lot of the T/F expression are things interpreted like \"rows where column X = \"XYZ\".  These use a double equals sign to denote the comparison (as opposed to using an equals sign to set a variable's value) so `df['Country'] == \"Canada\"` evaluates to True or False based on whether the Country column has the value \"Canada\"\n",
    "\n",
    "Here is an example. a T/F expression like this that is known as a \"mask\" in Pandas, so we use that as a variable name to be clear.  Masks are used to efficiently tell Pandas what rows to keep in a subset.  The variable called \"mask\" actually refers to a series of 24,546 True or False values.  This can be overlaid on our DataFrame to subset the DataFrame.  One of the crazy ingenious things about Pandas is that this actually has tremendously fast performance with large tables"
   ]
  },
  {
   "cell_type": "code",
   "execution_count": 16,
   "id": "33cc5f5e-67f3-45da-8f5c-b2d7ac8d1698",
   "metadata": {},
   "outputs": [
    {
     "data": {
      "text/plain": [
       "0        False\n",
       "1        False\n",
       "2        False\n",
       "3        False\n",
       "4        False\n",
       "         ...  \n",
       "24541    False\n",
       "24542    False\n",
       "24543    False\n",
       "24544    False\n",
       "24545    False\n",
       "Name: Country, Length: 24546, dtype: bool"
      ]
     },
     "execution_count": 16,
     "metadata": {},
     "output_type": "execute_result"
    }
   ],
   "source": [
    "mask = dfSales['Country'] == 'Canada'\n",
    "mask"
   ]
  },
  {
   "cell_type": "markdown",
   "id": "6d03d2e9-3dd2-40f9-86ad-f740ecc17d94",
   "metadata": {},
   "source": [
    "Here is how to show just the rows that meet the mask criteria --1388 rows for \"Canada\""
   ]
  },
  {
   "cell_type": "code",
   "execution_count": 17,
   "id": "b83a1fb0-01e5-4486-bfb3-bc1dd4145c1b",
   "metadata": {},
   "outputs": [
    {
     "data": {
      "text/html": [
       "<div>\n",
       "<style scoped>\n",
       "    .dataframe tbody tr th:only-of-type {\n",
       "        vertical-align: middle;\n",
       "    }\n",
       "\n",
       "    .dataframe tbody tr th {\n",
       "        vertical-align: top;\n",
       "    }\n",
       "\n",
       "    .dataframe thead th {\n",
       "        text-align: right;\n",
       "    }\n",
       "</style>\n",
       "<table border=\"1\" class=\"dataframe\">\n",
       "  <thead>\n",
       "    <tr style=\"text-align: right;\">\n",
       "      <th></th>\n",
       "      <th>Quarter</th>\n",
       "      <th>Channel</th>\n",
       "      <th>Customer ID</th>\n",
       "      <th>Country</th>\n",
       "      <th>Product Line</th>\n",
       "      <th>Revenue</th>\n",
       "      <th>Product Cost</th>\n",
       "      <th>Customer Service Cost</th>\n",
       "      <th>Profit</th>\n",
       "    </tr>\n",
       "  </thead>\n",
       "  <tbody>\n",
       "    <tr>\n",
       "      <th>87</th>\n",
       "      <td>Q2</td>\n",
       "      <td>ATM</td>\n",
       "      <td>EBP</td>\n",
       "      <td>Canada</td>\n",
       "      <td>Deposit Products</td>\n",
       "      <td>762</td>\n",
       "      <td>932</td>\n",
       "      <td>136</td>\n",
       "      <td>-305</td>\n",
       "    </tr>\n",
       "    <tr>\n",
       "      <th>160</th>\n",
       "      <td>Q2</td>\n",
       "      <td>ATM</td>\n",
       "      <td>AGR</td>\n",
       "      <td>Canada</td>\n",
       "      <td>Revolving Credit Products</td>\n",
       "      <td>563</td>\n",
       "      <td>635</td>\n",
       "      <td>65</td>\n",
       "      <td>-137</td>\n",
       "    </tr>\n",
       "    <tr>\n",
       "      <th>188</th>\n",
       "      <td>Q1</td>\n",
       "      <td>EML</td>\n",
       "      <td>EBP</td>\n",
       "      <td>Canada</td>\n",
       "      <td>Credit Products</td>\n",
       "      <td>378</td>\n",
       "      <td>226</td>\n",
       "      <td>42</td>\n",
       "      <td>110</td>\n",
       "    </tr>\n",
       "    <tr>\n",
       "      <th>211</th>\n",
       "      <td>Q1</td>\n",
       "      <td>ATM</td>\n",
       "      <td>AGR</td>\n",
       "      <td>Canada</td>\n",
       "      <td>Revolving Credit Products</td>\n",
       "      <td>516</td>\n",
       "      <td>360</td>\n",
       "      <td>37</td>\n",
       "      <td>119</td>\n",
       "    </tr>\n",
       "    <tr>\n",
       "      <th>214</th>\n",
       "      <td>Q3</td>\n",
       "      <td>ATM</td>\n",
       "      <td>MRT</td>\n",
       "      <td>Canada</td>\n",
       "      <td>Credit Products</td>\n",
       "      <td>314</td>\n",
       "      <td>222</td>\n",
       "      <td>50</td>\n",
       "      <td>42</td>\n",
       "    </tr>\n",
       "    <tr>\n",
       "      <th>...</th>\n",
       "      <td>...</td>\n",
       "      <td>...</td>\n",
       "      <td>...</td>\n",
       "      <td>...</td>\n",
       "      <td>...</td>\n",
       "      <td>...</td>\n",
       "      <td>...</td>\n",
       "      <td>...</td>\n",
       "      <td>...</td>\n",
       "    </tr>\n",
       "    <tr>\n",
       "      <th>24252</th>\n",
       "      <td>Q4</td>\n",
       "      <td>ATM</td>\n",
       "      <td>EBP</td>\n",
       "      <td>Canada</td>\n",
       "      <td>Revolving Credit Products</td>\n",
       "      <td>1251</td>\n",
       "      <td>948</td>\n",
       "      <td>236</td>\n",
       "      <td>67</td>\n",
       "    </tr>\n",
       "    <tr>\n",
       "      <th>24274</th>\n",
       "      <td>Q3</td>\n",
       "      <td>BRH</td>\n",
       "      <td>EBP</td>\n",
       "      <td>Canada</td>\n",
       "      <td>Deposit Products</td>\n",
       "      <td>547</td>\n",
       "      <td>706</td>\n",
       "      <td>78</td>\n",
       "      <td>-237</td>\n",
       "    </tr>\n",
       "    <tr>\n",
       "      <th>24294</th>\n",
       "      <td>Q2</td>\n",
       "      <td>ATM</td>\n",
       "      <td>EBP</td>\n",
       "      <td>Canada</td>\n",
       "      <td>Revolving Credit Products</td>\n",
       "      <td>886</td>\n",
       "      <td>770</td>\n",
       "      <td>137</td>\n",
       "      <td>-22</td>\n",
       "    </tr>\n",
       "    <tr>\n",
       "      <th>24331</th>\n",
       "      <td>Q3</td>\n",
       "      <td>ATM</td>\n",
       "      <td>EBP</td>\n",
       "      <td>Canada</td>\n",
       "      <td>Deposit Products</td>\n",
       "      <td>800</td>\n",
       "      <td>809</td>\n",
       "      <td>137</td>\n",
       "      <td>-146</td>\n",
       "    </tr>\n",
       "    <tr>\n",
       "      <th>24423</th>\n",
       "      <td>Q3</td>\n",
       "      <td>ATM</td>\n",
       "      <td>EBP</td>\n",
       "      <td>Canada</td>\n",
       "      <td>Revolving Credit Products</td>\n",
       "      <td>1106</td>\n",
       "      <td>623</td>\n",
       "      <td>134</td>\n",
       "      <td>349</td>\n",
       "    </tr>\n",
       "  </tbody>\n",
       "</table>\n",
       "<p>1388 rows × 9 columns</p>\n",
       "</div>"
      ],
      "text/plain": [
       "      Quarter Channel Customer ID Country               Product Line  Revenue  \\\n",
       "87         Q2     ATM         EBP  Canada           Deposit Products      762   \n",
       "160        Q2     ATM         AGR  Canada  Revolving Credit Products      563   \n",
       "188        Q1     EML         EBP  Canada            Credit Products      378   \n",
       "211        Q1     ATM         AGR  Canada  Revolving Credit Products      516   \n",
       "214        Q3     ATM         MRT  Canada            Credit Products      314   \n",
       "...       ...     ...         ...     ...                        ...      ...   \n",
       "24252      Q4     ATM         EBP  Canada  Revolving Credit Products     1251   \n",
       "24274      Q3     BRH         EBP  Canada           Deposit Products      547   \n",
       "24294      Q2     ATM         EBP  Canada  Revolving Credit Products      886   \n",
       "24331      Q3     ATM         EBP  Canada           Deposit Products      800   \n",
       "24423      Q3     ATM         EBP  Canada  Revolving Credit Products     1106   \n",
       "\n",
       "       Product Cost  Customer Service Cost  Profit  \n",
       "87              932                    136    -305  \n",
       "160             635                     65    -137  \n",
       "188             226                     42     110  \n",
       "211             360                     37     119  \n",
       "214             222                     50      42  \n",
       "...             ...                    ...     ...  \n",
       "24252           948                    236      67  \n",
       "24274           706                     78    -237  \n",
       "24294           770                    137     -22  \n",
       "24331           809                    137    -146  \n",
       "24423           623                    134     349  \n",
       "\n",
       "[1388 rows x 9 columns]"
      ]
     },
     "execution_count": 17,
     "metadata": {},
     "output_type": "execute_result"
    }
   ],
   "source": [
    "dfSales[mask]"
   ]
  },
  {
   "cell_type": "markdown",
   "id": "1c3e82c4-91d6-40ae-8de4-717f659c7490",
   "metadata": {},
   "source": [
    "</br></br>If we need to work further with the subset, it makes sense to assign it to a new name.  Let's do this for Country = \"USA\".  We can re-use the \"mask\" name for this.  It will work for Canada above, but the name gets reassigned in the following statement based on the top-to-bottom flow of running the cells.  `df.index.size` is a good way to just print out the number of rows in a DataFrame, which is 3074 for \"USA\".  The following commands show examples of printing the \"Info\" (how many rows are populated, what data types) and \"descibing\" a DataFrame to get summary info. </br></br> Try adding a cell with `dfSales_USA.to_excel('TestFile.xlsx', index=False)` to write the subet to an Excel file for further work on it there or in JMP software"
   ]
  },
  {
   "cell_type": "code",
   "execution_count": 18,
   "id": "a1d7b83d-85cb-4b5b-98ad-b9b279f77275",
   "metadata": {},
   "outputs": [
    {
     "data": {
      "text/plain": [
       "3074"
      ]
     },
     "execution_count": 18,
     "metadata": {},
     "output_type": "execute_result"
    }
   ],
   "source": [
    "mask = dfSales['Country'] == 'USA'\n",
    "dfSales_USA = dfSales[mask]\n",
    "dfSales_USA.index.size"
   ]
  },
  {
   "cell_type": "code",
   "execution_count": 19,
   "id": "98e3f222-65c6-4825-9e64-95c80808c4ee",
   "metadata": {},
   "outputs": [
    {
     "name": "stdout",
     "output_type": "stream",
     "text": [
      "<class 'pandas.core.frame.DataFrame'>\n",
      "Int64Index: 3074 entries, 0 to 24545\n",
      "Data columns (total 9 columns):\n",
      " #   Column                 Non-Null Count  Dtype \n",
      "---  ------                 --------------  ----- \n",
      " 0   Quarter                3074 non-null   object\n",
      " 1   Channel                3074 non-null   object\n",
      " 2   Customer ID            3074 non-null   object\n",
      " 3   Country                3074 non-null   object\n",
      " 4   Product Line           3074 non-null   object\n",
      " 5   Revenue                3074 non-null   int64 \n",
      " 6   Product Cost           3074 non-null   int64 \n",
      " 7   Customer Service Cost  3074 non-null   int64 \n",
      " 8   Profit                 3074 non-null   int64 \n",
      "dtypes: int64(4), object(5)\n",
      "memory usage: 240.2+ KB\n"
     ]
    }
   ],
   "source": [
    "dfSales_USA.info()"
   ]
  },
  {
   "cell_type": "code",
   "execution_count": 20,
   "id": "d01d7e9d-aced-4c21-a4e4-67d457293e7b",
   "metadata": {},
   "outputs": [
    {
     "data": {
      "text/html": [
       "<div>\n",
       "<style scoped>\n",
       "    .dataframe tbody tr th:only-of-type {\n",
       "        vertical-align: middle;\n",
       "    }\n",
       "\n",
       "    .dataframe tbody tr th {\n",
       "        vertical-align: top;\n",
       "    }\n",
       "\n",
       "    .dataframe thead th {\n",
       "        text-align: right;\n",
       "    }\n",
       "</style>\n",
       "<table border=\"1\" class=\"dataframe\">\n",
       "  <thead>\n",
       "    <tr style=\"text-align: right;\">\n",
       "      <th></th>\n",
       "      <th>Revenue</th>\n",
       "      <th>Product Cost</th>\n",
       "      <th>Customer Service Cost</th>\n",
       "      <th>Profit</th>\n",
       "    </tr>\n",
       "  </thead>\n",
       "  <tbody>\n",
       "    <tr>\n",
       "      <th>count</th>\n",
       "      <td>3074.000000</td>\n",
       "      <td>3074.000000</td>\n",
       "      <td>3074.000000</td>\n",
       "      <td>3074.00000</td>\n",
       "    </tr>\n",
       "    <tr>\n",
       "      <th>mean</th>\n",
       "      <td>622.608979</td>\n",
       "      <td>519.256994</td>\n",
       "      <td>90.437215</td>\n",
       "      <td>12.89948</td>\n",
       "    </tr>\n",
       "    <tr>\n",
       "      <th>std</th>\n",
       "      <td>1051.273629</td>\n",
       "      <td>953.013442</td>\n",
       "      <td>172.169020</td>\n",
       "      <td>432.63212</td>\n",
       "    </tr>\n",
       "    <tr>\n",
       "      <th>min</th>\n",
       "      <td>1.000000</td>\n",
       "      <td>0.000000</td>\n",
       "      <td>0.000000</td>\n",
       "      <td>-4139.00000</td>\n",
       "    </tr>\n",
       "    <tr>\n",
       "      <th>25%</th>\n",
       "      <td>59.000000</td>\n",
       "      <td>40.000000</td>\n",
       "      <td>7.000000</td>\n",
       "      <td>-42.00000</td>\n",
       "    </tr>\n",
       "    <tr>\n",
       "      <th>50%</th>\n",
       "      <td>209.000000</td>\n",
       "      <td>157.500000</td>\n",
       "      <td>27.000000</td>\n",
       "      <td>0.00000</td>\n",
       "    </tr>\n",
       "    <tr>\n",
       "      <th>75%</th>\n",
       "      <td>669.500000</td>\n",
       "      <td>530.000000</td>\n",
       "      <td>89.000000</td>\n",
       "      <td>52.00000</td>\n",
       "    </tr>\n",
       "    <tr>\n",
       "      <th>max</th>\n",
       "      <td>7540.000000</td>\n",
       "      <td>9256.000000</td>\n",
       "      <td>1865.000000</td>\n",
       "      <td>3664.00000</td>\n",
       "    </tr>\n",
       "  </tbody>\n",
       "</table>\n",
       "</div>"
      ],
      "text/plain": [
       "           Revenue  Product Cost  Customer Service Cost      Profit\n",
       "count  3074.000000   3074.000000            3074.000000  3074.00000\n",
       "mean    622.608979    519.256994              90.437215    12.89948\n",
       "std    1051.273629    953.013442             172.169020   432.63212\n",
       "min       1.000000      0.000000               0.000000 -4139.00000\n",
       "25%      59.000000     40.000000               7.000000   -42.00000\n",
       "50%     209.000000    157.500000              27.000000     0.00000\n",
       "75%     669.500000    530.000000              89.000000    52.00000\n",
       "max    7540.000000   9256.000000            1865.000000  3664.00000"
      ]
     },
     "execution_count": 20,
     "metadata": {},
     "output_type": "execute_result"
    }
   ],
   "source": [
    "dfSales_USA.describe()"
   ]
  },
  {
   "cell_type": "markdown",
   "id": "86d3b60c-2258-4f74-88e8-84ef608097b3",
   "metadata": {},
   "source": [
    "### Accessing Specific DataFrame Rows\n",
    "This gives additional examples with the two methods for specifying particular row and column ranges.  The first is the `.loc[]` command that allows specifying by by index values (may be text or numbers) and by column names.  The other is `.loc[]` that allows specifying by row and/or column number. </br></br>\n",
    "Here is an example of referring to (and printing out) just one row using the row's index and the `.loc[]` command.</br></br>In the example, Row 0 prints out with a list of its values by column, its index name ('0' in this case) and its data type. However, the \"object\" resulting from the command is a Pandas \"Series\" that is like an indexed vector.  It can also be written to a file.  The \"object\" data type is the \"O-blood type\" type object used when strings/non-numerics are involved."
   ]
  },
  {
   "cell_type": "code",
   "execution_count": null,
   "id": "d9a26663-a0b4-46a0-a707-6c9578039cab",
   "metadata": {},
   "outputs": [],
   "source": [
    "First, we need to reset `df_little` index back to a Range index"
   ]
  },
  {
   "cell_type": "code",
   "execution_count": 22,
   "id": "4b248088-c44e-4870-8730-8ca3aa388b16",
   "metadata": {},
   "outputs": [
    {
     "data": {
      "text/html": [
       "<div>\n",
       "<style scoped>\n",
       "    .dataframe tbody tr th:only-of-type {\n",
       "        vertical-align: middle;\n",
       "    }\n",
       "\n",
       "    .dataframe tbody tr th {\n",
       "        vertical-align: top;\n",
       "    }\n",
       "\n",
       "    .dataframe thead th {\n",
       "        text-align: right;\n",
       "    }\n",
       "</style>\n",
       "<table border=\"1\" class=\"dataframe\">\n",
       "  <thead>\n",
       "    <tr style=\"text-align: right;\">\n",
       "      <th></th>\n",
       "      <th>one_column</th>\n",
       "      <th>second_column</th>\n",
       "      <th>third_column</th>\n",
       "    </tr>\n",
       "  </thead>\n",
       "  <tbody>\n",
       "    <tr>\n",
       "      <th>0</th>\n",
       "      <td>a</td>\n",
       "      <td>10</td>\n",
       "      <td>100</td>\n",
       "    </tr>\n",
       "    <tr>\n",
       "      <th>1</th>\n",
       "      <td>b</td>\n",
       "      <td>15</td>\n",
       "      <td>150</td>\n",
       "    </tr>\n",
       "    <tr>\n",
       "      <th>2</th>\n",
       "      <td>c</td>\n",
       "      <td>20</td>\n",
       "      <td>200</td>\n",
       "    </tr>\n",
       "  </tbody>\n",
       "</table>\n",
       "</div>"
      ],
      "text/plain": [
       "  one_column  second_column  third_column\n",
       "0          a             10           100\n",
       "1          b             15           150\n",
       "2          c             20           200"
      ]
     },
     "execution_count": 22,
     "metadata": {},
     "output_type": "execute_result"
    }
   ],
   "source": [
    "df_little = df_little.reset_index()\n",
    "df_little"
   ]
  },
  {
   "cell_type": "code",
   "execution_count": 23,
   "id": "b9aac49d-e415-4dc6-a68c-85d46e95213e",
   "metadata": {},
   "outputs": [
    {
     "data": {
      "text/plain": [
       "one_column         a\n",
       "second_column     10\n",
       "third_column     100\n",
       "Name: 0, dtype: object"
      ]
     },
     "execution_count": 23,
     "metadata": {},
     "output_type": "execute_result"
    }
   ],
   "source": [
    "df_little.loc[0]"
   ]
  },
  {
   "cell_type": "markdown",
   "id": "b4d31b91-ed2e-460d-9084-a2fa09d2589b",
   "metadata": {},
   "source": [
    "</br></br> This further example uses a `.loc[rowindex, column]` notation to pull out a specific \"cell\" value:"
   ]
  },
  {
   "cell_type": "code",
   "execution_count": 25,
   "id": "90fa5a40-4ab4-4616-b7f6-44d6d9e2fe6a",
   "metadata": {},
   "outputs": [
    {
     "data": {
      "text/plain": [
       "15"
      ]
     },
     "execution_count": 25,
     "metadata": {},
     "output_type": "execute_result"
    }
   ],
   "source": [
    "df_little.loc[1, 'second_column']"
   ]
  },
  {
   "cell_type": "markdown",
   "id": "25835f33-7f98-441e-8a7d-5ad7d40c767e",
   "metadata": {},
   "source": [
    "If you are not familiar with Pandas, the index may just look like an Excel row number that starts at zero instead of one.  While that is true for Pandas' default index, the index can be anything and does not have to be an integer.  There can even be multiple indices to make it easy to (in another, hypothetical DataFrame) call up the data from \"Ohio\" (first index) \"Hamilton County\" (second index) using something like: `df.loc[['Ohio','Hamilton']]` instead of just an integer. </br></br></br>Here is an example of reassigning our DataFrame's index to be Fiscal Years"
   ]
  },
  {
   "cell_type": "code",
   "execution_count": 26,
   "id": "9d98b15a-c431-4f69-9fef-8d2cba71ba13",
   "metadata": {},
   "outputs": [
    {
     "data": {
      "text/html": [
       "<div>\n",
       "<style scoped>\n",
       "    .dataframe tbody tr th:only-of-type {\n",
       "        vertical-align: middle;\n",
       "    }\n",
       "\n",
       "    .dataframe tbody tr th {\n",
       "        vertical-align: top;\n",
       "    }\n",
       "\n",
       "    .dataframe thead th {\n",
       "        text-align: right;\n",
       "    }\n",
       "</style>\n",
       "<table border=\"1\" class=\"dataframe\">\n",
       "  <thead>\n",
       "    <tr style=\"text-align: right;\">\n",
       "      <th></th>\n",
       "      <th>one_column</th>\n",
       "      <th>second_column</th>\n",
       "      <th>third_column</th>\n",
       "    </tr>\n",
       "  </thead>\n",
       "  <tbody>\n",
       "    <tr>\n",
       "      <th>FY19/20</th>\n",
       "      <td>a</td>\n",
       "      <td>10</td>\n",
       "      <td>100</td>\n",
       "    </tr>\n",
       "    <tr>\n",
       "      <th>FY20/21</th>\n",
       "      <td>b</td>\n",
       "      <td>15</td>\n",
       "      <td>150</td>\n",
       "    </tr>\n",
       "    <tr>\n",
       "      <th>FY21/22</th>\n",
       "      <td>c</td>\n",
       "      <td>20</td>\n",
       "      <td>200</td>\n",
       "    </tr>\n",
       "  </tbody>\n",
       "</table>\n",
       "</div>"
      ],
      "text/plain": [
       "        one_column  second_column  third_column\n",
       "FY19/20          a             10           100\n",
       "FY20/21          b             15           150\n",
       "FY21/22          c             20           200"
      ]
     },
     "execution_count": 26,
     "metadata": {},
     "output_type": "execute_result"
    }
   ],
   "source": [
    "df_little.index = ['FY19/20', 'FY20/21', 'FY21/22']\n",
    "df_little"
   ]
  },
  {
   "cell_type": "markdown",
   "id": "8b62ab45-1a37-42d1-ac8a-f2ab12e0095c",
   "metadata": {},
   "source": [
    "So now the statement below gives us the 20/21 second column value.</br></br>The line after that shows that there is even still a way to just say, \"give me the third row, second column value.\"  That is using the `iloc` command (aka integer location) instead of `loc' </br></br>**Finally:** Don't forget that, in Python (and therefore Pandas), indices always start at zero, so [2,1] refers to the third row, second column of our little DataFrame"
   ]
  },
  {
   "cell_type": "code",
   "execution_count": 28,
   "id": "3a35edb1-2f95-406c-97e1-7e4e48d34556",
   "metadata": {},
   "outputs": [
    {
     "data": {
      "text/plain": [
       "15"
      ]
     },
     "execution_count": 28,
     "metadata": {},
     "output_type": "execute_result"
    }
   ],
   "source": [
    "df_little.loc['FY20/21', 'second_column']"
   ]
  },
  {
   "cell_type": "code",
   "execution_count": 29,
   "id": "3caeee2d-cef1-45c4-ae43-8943a847d006",
   "metadata": {},
   "outputs": [
    {
     "data": {
      "text/plain": [
       "20"
      ]
     },
     "execution_count": 29,
     "metadata": {},
     "output_type": "execute_result"
    }
   ],
   "source": [
    "df_little.iloc[2,1]"
   ]
  },
  {
   "cell_type": "code",
   "execution_count": null,
   "id": "b71f744e-d186-47e2-9b59-5a43a47899ea",
   "metadata": {},
   "outputs": [],
   "source": []
  }
 ],
 "metadata": {
  "kernelspec": {
   "display_name": "Python 3",
   "language": "python",
   "name": "python3"
  },
  "language_info": {
   "codemirror_mode": {
    "name": "ipython",
    "version": 3
   },
   "file_extension": ".py",
   "mimetype": "text/x-python",
   "name": "python",
   "nbconvert_exporter": "python",
   "pygments_lexer": "ipython3",
   "version": "3.8.8"
  }
 },
 "nbformat": 4,
 "nbformat_minor": 5
}

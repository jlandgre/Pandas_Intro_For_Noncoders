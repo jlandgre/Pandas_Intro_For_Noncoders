{
 "cells": [
  {
   "cell_type": "markdown",
   "id": "86c488fd-7426-423d-875f-7fcd64a40d97",
   "metadata": {},
   "source": [
    "### Python Jump-start for Data Analysis\n",
    "This is not your normal \"getting started with Python tutorial\". It is intended to help people who are progressing into using Python and Pandas for data analysis. They may have learned some Python previously, but that knowledge has gone cold. It could be used by a non-coder who is running someone else's Jupyter notebook --to demystify the gobbledygook. Let's start with the basics about the tutorial itself.</br>\n",
    "\n",
    "__Using this Tutorial__\n",
    "* This tutorial is in the form of a Jupyter notebook. These have an *.ipynb extension and contain two types of cells: 1) \"markdown\" text like this one and 2) Python code.\n",
    "* You run an individual cell by clicking in it and hitting Shift+Enter. That is a good way to walk through a tutorial. You can also choose `Run / Run All Cells` to run everything at once\n",
    "* You can clear previous outputs and reset variables using the `Kernel / Restart Kernel and Clear All Outputs` menu in Jupyterlab</br>"
   ]
  },
  {
   "cell_type": "markdown",
   "id": "f7d5c977-91b1-467b-b548-0e74fff48079",
   "metadata": {},
   "source": [
    "__Topics in this Tutorial__\n",
    "* Variables in Python\n",
    "* Working with Previously-written Open-Source code libraries\n",
    "* Working with Project-Specific Code Libraries\n",
    "* Working with Python Lists\n",
    "* Working with Python Dictionaries\n",
    "* Iterating Over Lists \n",
    "* Python range() objects\n",
    "* Iterating Over Dictionaries\n",
    "* The Python zip() to Co-Iterate and Combine Lists\n",
    "<div style=\"text-align: right\"> J.D. Landgrebe, </br>November 17, 2023 </div>"
   ]
  },
  {
   "cell_type": "markdown",
   "id": "e4f491ab-3e02-4f54-bb85-fee5f76e59f0",
   "metadata": {},
   "source": [
    "#### Let's get started with some Python basics"
   ]
  },
  {
   "cell_type": "markdown",
   "id": "ed91f43f-b086-4cdc-870d-204d5d31a122",
   "metadata": {},
   "source": [
    "##### Variables in Python\n",
    "Use \"=\" to set a variable's value\n",
    "* Variables need to start with a letter, so `x1` is ok, but not `1x`\n",
    "* Variable names are case sensitive, so `x1` is not the same as `X1`\n",
    "* Variable names can contain underscore `_` characters but not other special characters\n",
    "* We will get to this in a minute, but Python variables can store single values like these examples, or they can store more complex things like lists, dictionaries, DataFrame tables, functions and objects\n",
    "</br></br>...and `print()` is a useful function. Don't forget the enclosing parentheses!"
   ]
  },
  {
   "cell_type": "code",
   "execution_count": 43,
   "id": "c348850f-958a-425f-bce6-571244f32c7c",
   "metadata": {},
   "outputs": [
    {
     "name": "stdout",
     "output_type": "stream",
     "text": [
      "2\n",
      "Francisco\n",
      "Francisco Martin\n"
     ]
    }
   ],
   "source": [
    "#Examples of setting variables and valid variable names\n",
    "x = 2\n",
    "name = 'Francisco'\n",
    "first_last = 'Francisco Martin'\n",
    "print(x)\n",
    "print(name)\n",
    "print(first_last)"
   ]
  },
  {
   "cell_type": "code",
   "execution_count": null,
   "id": "ef35111f-5d28-46d8-8dc7-ae5a759b8cbd",
   "metadata": {},
   "outputs": [],
   "source": []
  },
  {
   "cell_type": "markdown",
   "id": "6c6ba21b-1aa5-4766-9e52-0c9a18e9c5df",
   "metadata": {},
   "source": [
    "##### Working with Previously-written Open-Source code libraries\n",
    "For many tasks like data analysis, you don't need to write code from scratch. You can import libraries and just use their methods and attributes. There are two kinds of such libraries. The first is open-source libraries that you likely are pre-installed along with Python on your laptop. Ask a support expert for help \n",
    "if you don't have a library you need. </br></br>A quick, library example is the `math` library (hopefully you have this one pre-installed!). It comes with `pi` as an attribute and has many useful functions such as the trigonometry example here."
   ]
  },
  {
   "cell_type": "code",
   "execution_count": 23,
   "id": "c8784970-c258-49d0-8287-6cdf7572c790",
   "metadata": {},
   "outputs": [
    {
     "name": "stdout",
     "output_type": "stream",
     "text": [
      "pi =  3.141592653589793\n",
      "cosine(pi) =  -1.0\n"
     ]
    }
   ],
   "source": [
    "#Import the pre-installed math library\n",
    "import math\n",
    "\n",
    "#Print pi from the math library\n",
    "print('pi = ', math.pi)\n",
    "\n",
    "#Use the cosine function in the math library\n",
    "print('cosine(pi) = ', math.cos(math.pi))"
   ]
  },
  {
   "cell_type": "markdown",
   "id": "75111d11-2fd7-4356-914b-84fe35197d27",
   "metadata": {},
   "source": [
    "One more note or convention worth mentioning about imported open-source libraries: It is common to import certain libraries and assign them to shortcut letters. This avoids needing to constantly type the full name of the library to access its methods. One example is the Pandas library for data analysis (and it is lowercase `pandas` to import. EVERYONE assigns this to the letters `pd` as below. Similarly, the Numpy (aka numpy) library for numerical work is  imported as `np`. You could use any letters, but don't. Nobody in the Python community will understand deviating from these conventions! These import statements are bringing in large and powerful code libraries and putting them at your disposal!"
   ]
  },
  {
   "cell_type": "code",
   "execution_count": 24,
   "id": "df814d5f-9a27-41b9-8783-0943cf0c771a",
   "metadata": {},
   "outputs": [
    {
     "name": "stdout",
     "output_type": "stream",
     "text": [
      "Empty DataFrame\n",
      "Columns: []\n",
      "Index: []\n"
     ]
    }
   ],
   "source": [
    "#Examples of importing open-source libraries (these statements will work if\n",
    "#you have the libraries pre-installed on your computer)\n",
    "import pandas as pd\n",
    "import numpy as np\n",
    "\n",
    "#print an empty Pandas DataFrame to show use of pd abbreviation for Pandas\n",
    "print(pd.DataFrame())"
   ]
  },
  {
   "cell_type": "code",
   "execution_count": null,
   "id": "a9c79db3-89a0-4382-b6fe-b6c84e6deac3",
   "metadata": {},
   "outputs": [],
   "source": []
  },
  {
   "cell_type": "markdown",
   "id": "63292ecc-6fa1-477e-b049-ef20fdd0ce25",
   "metadata": {},
   "source": [
    "##### Working with Project-Specific Code Libraries\n",
    "The topic of custom, project-specific libraries can be a big source of confusion for beginners! Here is a quick explanation of how they work</br>\n",
    "\n",
    "Project files such as this notebook may also import custom libraries as a way to isolate and use code that was previously developed and validated --maybe even by you. This is a great practice for making things modular and nice. Putting code in a custom library is also a way to conceal long code sections from someone who is not Python-knowledgeable and who just needs to run something from a notebook where short and sweet is ideal.</br>\n",
    "\n",
    "Such custom libraries typically reside in files with a *.py extension. For those import statements to work, the *.py file needs to be visible or accessible to the importing notebook or file. That can get a little messy, but it often means that, without expert intervention, code will work when the project's collection of files is together but not if an individual notebook like this one is ripped away from the other files. This means that it is generally a good idea to copy an entire project folder versus trying to pick out a single, useful notebook.</br></br>\n",
    "As an example, this project folder contains a very small code library called `our_demo.py`. It contains a function that prints the numbers up to a specified integer. This will work as long as `our_demo.py` is sitting in the same folder as this notebook. The cell below shows an example of running `our_demo.print_numbers()`.</br></br>\n",
    "Here is what is in the `our_demo.py` file in case you do not want to take the time to open it and look for yourself. Having the code there means we don't need it cluttering up this Jupyter notebook.\n",
    "```python\n",
    "#Demonstration library used by python_jumpstart.ipynb\n",
    "def print_numbers(i):\n",
    "    for i in range(1, i + 1):\n",
    "        print(i)\n",
    "```"
   ]
  },
  {
   "cell_type": "code",
   "execution_count": 25,
   "id": "14dfd02e-3e35-4796-bdcb-f759f63071fb",
   "metadata": {},
   "outputs": [
    {
     "name": "stdout",
     "output_type": "stream",
     "text": [
      "1\n",
      "2\n",
      "3\n",
      "4\n",
      "5\n"
     ]
    }
   ],
   "source": [
    "import our_demo\n",
    "\n",
    "our_demo.print_numbers(5)"
   ]
  },
  {
   "cell_type": "code",
   "execution_count": null,
   "id": "eccf1b25-98da-44a6-82db-057ed903ca90",
   "metadata": {},
   "outputs": [],
   "source": []
  },
  {
   "cell_type": "markdown",
   "id": "8d7297c5-c0a4-48f1-8efa-6671315bf6a4",
   "metadata": {},
   "source": [
    "### Lists and Dictionaries\n",
    "Python has two data structures useful for gathering multiple items together in an organized way. These come in handy for topics like working with a list of related values, data tables (aka DataFrames) or strings such as column names.</br>"
   ]
  },
  {
   "cell_type": "markdown",
   "id": "27317525-e6f7-4c4d-8cd6-05350b27518c",
   "metadata": {},
   "source": [
    "##### Working with Python Lists\n",
    "The first multi-item data structure is lists. Lists can have 0+ items in them, and they use square bracket notation. The items do not need to be the same data type but they often are. Lists have an order, so you can retrieve the first item or third through tenth items. Here are a couple of useful code snippets that set variables equal to lists or portions thereof"
   ]
  },
  {
   "cell_type": "code",
   "execution_count": 44,
   "id": "92f97d2f-2107-4e8c-8b78-94e1bd1f5f52",
   "metadata": {},
   "outputs": [
    {
     "name": "stdout",
     "output_type": "stream",
     "text": [
      "[]\n",
      "['a', 'b', 'c']\n"
     ]
    }
   ],
   "source": [
    "#An empty list\n",
    "list1 = []\n",
    "print(list1)\n",
    "\n",
    "#A list with some items\n",
    "list2 = ['a', 'b', 'c']\n",
    "print(list2)"
   ]
  },
  {
   "cell_type": "markdown",
   "id": "3137dbc3-da6a-4237-8c6b-b3bfcbcb3f4a",
   "metadata": {},
   "source": [
    "You can append individual items to a list (this only works if the list already exists hence the initial `list3 = []` command"
   ]
  },
  {
   "cell_type": "code",
   "execution_count": 27,
   "id": "e9a76bd8-221e-4a8e-ba1c-9b34692fa1cc",
   "metadata": {},
   "outputs": [
    {
     "name": "stdout",
     "output_type": "stream",
     "text": [
      "['z', 'x']\n"
     ]
    }
   ],
   "source": [
    "list3 = []\n",
    "list3.append('z')\n",
    "list3.append('x')\n",
    "print(list3)"
   ]
  },
  {
   "cell_type": "markdown",
   "id": "c5dfa74b-15ce-42a0-a581-08e00917f0d6",
   "metadata": {},
   "source": [
    "You can remove any list item like this"
   ]
  },
  {
   "cell_type": "code",
   "execution_count": 28,
   "id": "8d5466e5-6bfe-4d0d-9624-c8f0a7c14259",
   "metadata": {},
   "outputs": [
    {
     "name": "stdout",
     "output_type": "stream",
     "text": [
      "['x']\n"
     ]
    }
   ],
   "source": [
    "list3.remove('z')\n",
    "print(list3)"
   ]
  },
  {
   "cell_type": "markdown",
   "id": "ea28ec03-85f4-4bf7-a61f-30b6ab3a16b4",
   "metadata": {},
   "source": [
    "You can access list items by their index and by using what is called \"slice\" notation. Both use square brackets to enclose the indices. Python indexes from zero, so the first item will be the 0th. In slice notation, the last item is -1; next-to-last is -2 etc. Here are a few examples on an example list"
   ]
  },
  {
   "cell_type": "code",
   "execution_count": 45,
   "id": "6a48e519-af50-4f18-8171-1b1d5640359b",
   "metadata": {},
   "outputs": [
    {
     "name": "stdout",
     "output_type": "stream",
     "text": [
      "['chem', 'physics', 'math', 'history']\n"
     ]
    }
   ],
   "source": [
    "list_subjects = ['chem', 'physics', 'math', 'history']\n",
    "print(list_subjects)"
   ]
  },
  {
   "cell_type": "code",
   "execution_count": 46,
   "id": "ce898a8f-55d3-4eaa-ac30-bcb7c3c0190b",
   "metadata": {},
   "outputs": [
    {
     "name": "stdout",
     "output_type": "stream",
     "text": [
      "chem\n",
      "history\n"
     ]
    }
   ],
   "source": [
    "#First and last items\n",
    "print(list_subjects[0])\n",
    "print(list_subjects[-1])"
   ]
  },
  {
   "cell_type": "code",
   "execution_count": 48,
   "id": "2669e921-1143-4c80-b842-4241df116fba",
   "metadata": {},
   "outputs": [
    {
     "name": "stdout",
     "output_type": "stream",
     "text": [
      "['chem', 'physics']\n",
      "['chem', 'physics']\n"
     ]
    }
   ],
   "source": [
    "#Items from first to second (index 0 and 1)\n",
    "#two different notations give the same result\n",
    "# \":2\" means up to but not including index 2\n",
    "print(list_subjects[:2])\n",
    "print(list_subjects[0:2])"
   ]
  },
  {
   "cell_type": "code",
   "execution_count": 32,
   "id": "b960d89f-be8e-4947-9707-0314e15db910",
   "metadata": {},
   "outputs": [
    {
     "name": "stdout",
     "output_type": "stream",
     "text": [
      "['physics', 'math', 'history']\n",
      "['physics', 'math']\n"
     ]
    }
   ],
   "source": [
    "#Items from the second to the last (Recall that 1 index refers to 2nd item)\n",
    "print(list_subjects[1:])\n",
    "\n",
    "#Second and third items (index 1 and 2)\n",
    "print(list_subjects[1:3])"
   ]
  },
  {
   "cell_type": "code",
   "execution_count": null,
   "id": "45958ea1-3eb2-4fc4-b638-6137b0640d59",
   "metadata": {},
   "outputs": [],
   "source": []
  },
  {
   "cell_type": "markdown",
   "id": "d750c83c-795c-45f0-8338-7f48953fe59e",
   "metadata": {},
   "source": [
    "##### Working with Python Dictionaries\n",
    "Lists are great, but what if you need to \"key\" the items to look them up by keys? That requires a dictionary. They have keys and values. Like lists, the values can be any data type including even lists. The keys should be strings or numbers. Here is an example of creating a dictionary outright or by adding individual items"
   ]
  },
  {
   "cell_type": "code",
   "execution_count": 33,
   "id": "3ca37d33-92a7-4363-a25b-bd6d6ade507b",
   "metadata": {},
   "outputs": [
    {
     "name": "stdout",
     "output_type": "stream",
     "text": [
      "5280\n"
     ]
    }
   ],
   "source": [
    "#The dictionary uses curly brackets; use square brackets to reference an item by its key\n",
    "convert = {'cm_to_in':2.54, 'ft_to_mi':5280, 'kg_to_lb':0.4536}\n",
    "print(convert['ft_to_mi'])"
   ]
  },
  {
   "cell_type": "code",
   "execution_count": 34,
   "id": "5da13f1b-fb11-41c4-9d96-4227d6541443",
   "metadata": {},
   "outputs": [
    {
     "name": "stdout",
     "output_type": "stream",
     "text": [
      "{'Porsche': 'Cayenne'}\n"
     ]
    }
   ],
   "source": [
    "#Can add items but only to an existing dictionary \n",
    "car_types = {}\n",
    "car_types['Porsche'] = 'Cayenne'\n",
    "print(car_types)"
   ]
  },
  {
   "cell_type": "code",
   "execution_count": 35,
   "id": "3e825a0f-dc30-40c9-a454-38bc5ad626f7",
   "metadata": {},
   "outputs": [
    {
     "name": "stdout",
     "output_type": "stream",
     "text": [
      "{'Porsche': '911 Turbo'}\n",
      "{'ft_to_mi': 5280, 'kg_to_lb': 0.4536}\n"
     ]
    }
   ],
   "source": [
    "#Can change an item by setting it to a new value\n",
    "car_types['Porsche'] = '911 Turbo'\n",
    "print(car_types)\n",
    "\n",
    "#Can delete an item using the `del` keyword\n",
    "del convert['cm_to_in']\n",
    "print(convert)"
   ]
  },
  {
   "cell_type": "code",
   "execution_count": 50,
   "id": "2b45901a-4167-48ca-bcc5-5d0c726e3755",
   "metadata": {},
   "outputs": [
    {
     "name": "stdout",
     "output_type": "stream",
     "text": [
      "{'letters': ['a', 'b', 'c'], 'numbers': [1, 2, 3]}\n"
     ]
    }
   ],
   "source": [
    "#Getting fancier - A dictionary where each item's value is a list\n",
    "dict1 = {'letters':['a', 'b', 'c'], 'numbers':[1, 2, 3]}\n",
    "print(dict1)"
   ]
  },
  {
   "cell_type": "code",
   "execution_count": null,
   "id": "e98e8e1c-f2c3-4a29-8a50-e9c87070e9f2",
   "metadata": {},
   "outputs": [],
   "source": []
  },
  {
   "cell_type": "markdown",
   "id": "2c2a23fa-be92-4e90-bb3d-46c9b12e27f0",
   "metadata": {},
   "source": [
    "##### Iterating Over Lists and Dictionaries\n",
    "This is all great, but often the purpose of using a list or dictionary is to be able to iterate over its items. Lists are directly iterable."
   ]
  },
  {
   "cell_type": "code",
   "execution_count": 36,
   "id": "cfde4573-5a62-444a-bbe8-76169725febf",
   "metadata": {},
   "outputs": [
    {
     "name": "stdout",
     "output_type": "stream",
     "text": [
      "Iterate over all list items\n",
      "chem\n",
      "physics\n",
      "math\n",
      "history\n"
     ]
    }
   ],
   "source": [
    "#Re-create previous list of subjects\n",
    "list_subjects = ['chem', 'physics', 'math', 'history']\n",
    "\n",
    "#To iterate over all items, use a loop value like `subj` here\n",
    "print('Iterate over all list items')\n",
    "for subj in list_subjects:\n",
    "    print(subj)"
   ]
  },
  {
   "cell_type": "markdown",
   "id": "8863492b-2154-4207-8863-647e49278b91",
   "metadata": {},
   "source": [
    "If you need to work with the index of the list items, Python `enumerate` gives you the index inside the loop"
   ]
  },
  {
   "cell_type": "code",
   "execution_count": 37,
   "id": "3230fcc5-2fda-41d8-b97f-d17449fa89c2",
   "metadata": {},
   "outputs": [
    {
     "name": "stdout",
     "output_type": "stream",
     "text": [
      "0 chem\n",
      "1 physics\n",
      "2 math\n",
      "3 history\n"
     ]
    }
   ],
   "source": [
    "for i, subj in enumerate(list_subjects):\n",
    "    print(i, subj)"
   ]
  },
  {
   "cell_type": "markdown",
   "id": "3be7b735-d682-40f2-a11f-368ed6631e95",
   "metadata": {},
   "source": [
    "Of course, the slice notation is a way to subset the list and loop on just part"
   ]
  },
  {
   "cell_type": "code",
   "execution_count": 38,
   "id": "01f9063a-7148-4e81-98b8-aef8445a3479",
   "metadata": {},
   "outputs": [
    {
     "name": "stdout",
     "output_type": "stream",
     "text": [
      "math\n",
      "history\n"
     ]
    }
   ],
   "source": [
    "for subj in list_subjects[2:]:\n",
    "    print(subj)"
   ]
  },
  {
   "cell_type": "code",
   "execution_count": null,
   "id": "f58e989f-3206-4b24-8170-f380fb3108ca",
   "metadata": {},
   "outputs": [],
   "source": []
  },
  {
   "cell_type": "markdown",
   "id": "c6a21ad9-7869-447d-acd2-510670bead76",
   "metadata": {},
   "source": [
    "##### Python range() objects\n",
    "Separate from iterating on lists, `range()` objects are a way to iterate a specific number of times to perform some action"
   ]
  },
  {
   "cell_type": "code",
   "execution_count": 39,
   "id": "ceda8833-fb16-461a-8e7f-4487e197d2a6",
   "metadata": {},
   "outputs": [
    {
     "name": "stdout",
     "output_type": "stream",
     "text": [
      "0\n",
      "1\n",
      "2\n",
      "\n",
      "4\n",
      "5\n",
      "6\n",
      "7\n"
     ]
    }
   ],
   "source": [
    "#Range items can have just a single argument that defines the \"stop before\" limit\n",
    "for i in range(3):\n",
    "    print(i)\n",
    "    \n",
    "print('')\n",
    "\n",
    "#Two arguments give a start and end (stop before) value\n",
    "for i in range(4,8):\n",
    "    print(i)"
   ]
  },
  {
   "cell_type": "code",
   "execution_count": null,
   "id": "ed855efb-3c59-4dfa-83f9-40f5eaf95f7d",
   "metadata": {},
   "outputs": [],
   "source": []
  },
  {
   "cell_type": "markdown",
   "id": "a2615040-14b9-4ebd-9d12-60fc0567195c",
   "metadata": {},
   "source": [
    "##### Iterating Over Dictionary Items\n",
    "Sometimes you need to loop over a dictionary's items. Its `.items()` attribute holds the keys and values."
   ]
  },
  {
   "cell_type": "code",
   "execution_count": 40,
   "id": "82875bcf-3971-4d8b-ba45-9ffed5de29b9",
   "metadata": {},
   "outputs": [
    {
     "name": "stdout",
     "output_type": "stream",
     "text": [
      "cm_to_in 2.54\n",
      "ft_to_mi 5280\n",
      "kg_to_lb 0.4536\n"
     ]
    }
   ],
   "source": [
    "convert = {'cm_to_in':2.54, 'ft_to_mi':5280, 'kg_to_lb':0.4536}\n",
    "for key, val in convert.items():\n",
    "    print(key, val)"
   ]
  },
  {
   "cell_type": "code",
   "execution_count": null,
   "id": "d4b3fff0-503b-489b-9c65-9044e68dd111",
   "metadata": {},
   "outputs": [],
   "source": []
  },
  {
   "cell_type": "markdown",
   "id": "194e631d-c76c-432d-8f40-a6dcb7f30a55",
   "metadata": {},
   "source": [
    "##### The Python zip() to Co-Iterate and Combine Lists\n",
    "Python has a `zip()` function that can combine matched lists including creating a dictionary's keys and values from two, matched lists. This can be very useful. Here are two example usages"
   ]
  },
  {
   "cell_type": "code",
   "execution_count": 41,
   "id": "86fa82da-7560-4db0-b1cb-41d4a5deed76",
   "metadata": {},
   "outputs": [
    {
     "name": "stdout",
     "output_type": "stream",
     "text": [
      "apple 0.49\n",
      "banana 0.79\n",
      "cherry 0.59\n"
     ]
    }
   ],
   "source": [
    "#Iterate over two (or more) matched lists with zip()\n",
    "list1 = ['apple', 'banana', 'cherry']\n",
    "list2 = [0.49, 0.79, 0.59]\n",
    "\n",
    "for fruit, cost in zip(list1, list2):\n",
    "    print(fruit, cost)"
   ]
  },
  {
   "cell_type": "code",
   "execution_count": 42,
   "id": "e03b5349-fcf0-4609-831f-7f8e4c5ef6fb",
   "metadata": {},
   "outputs": [
    {
     "data": {
      "text/plain": [
       "{'apple': 0.49, 'banana': 0.79, 'cherry': 0.59}"
      ]
     },
     "execution_count": 42,
     "metadata": {},
     "output_type": "execute_result"
    }
   ],
   "source": [
    "#Create a dictionary from two, matched lists\n",
    "fruit_costs = dict(zip(list1, list2))\n",
    "fruit_costs"
   ]
  }
 ],
 "metadata": {
  "kernelspec": {
   "display_name": "Python 3",
   "language": "python",
   "name": "python3"
  },
  "language_info": {
   "codemirror_mode": {
    "name": "ipython",
    "version": 3
   },
   "file_extension": ".py",
   "mimetype": "text/x-python",
   "name": "python",
   "nbconvert_exporter": "python",
   "pygments_lexer": "ipython3",
   "version": "3.8.8"
  }
 },
 "nbformat": 4,
 "nbformat_minor": 5
}
